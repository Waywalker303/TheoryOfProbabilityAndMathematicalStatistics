{
  "cells": [
    {
      "cell_type": "code",
      "execution_count": 1,
      "metadata": {},
      "outputs": [],
      "source": [
        "# 2)Измерены значения IQ выборки студентов,\n",
        "# обучающихся в местных технических вузах:\n",
        "# 131, 125, 115, 122, 131, 115, 107, 99, 125, 111.\n",
        "# Известно, что в генеральной совокупности IQ распределен нормально.\n",
        "# Найдите доверительный интервал для математического ожидания с надежностью 0.95."
      ]
    },
    {
      "cell_type": "code",
      "execution_count": 2,
      "metadata": {
        "trusted": true
      },
      "outputs": [],
      "source": [
        "import numpy as np\n",
        "import pandas as pd\n",
        "import matplotlib.pyplot as plt\n",
        "\n",
        "%matplotlib inline"
      ]
    },
    {
      "cell_type": "code",
      "execution_count": 3,
      "metadata": {
        "trusted": true
      },
      "outputs": [
        {
          "name": "stdout",
          "output_type": "stream",
          "text": [
            "Среднее выборочное:  118.10,\n",
            "Размер выборки n=10,\n",
            "Среднее квадратическое отклонение по выборке(несмещенное):  10.55.\n"
          ]
        }
      ],
      "source": [
        "arr=np.array([131, 125, 115, 122, 131, 115, 107, 99, 125, 111])\n",
        "print(f'Среднее выборочное: {np.mean(arr): .2f},\\n'\n",
        "      f'Размер выборки n={len(arr)},\\n'\n",
        "      f'Среднее квадратическое отклонение по выборке(несмещенное): {np.std(arr, ddof=1): .2f}.'\n",
        "     )"
      ]
    },
    {
      "cell_type": "code",
      "execution_count": 4,
      "metadata": {
        "trusted": true
      },
      "outputs": [],
      "source": [
        "import scipy.stats as stats"
      ]
    },
    {
      "cell_type": "code",
      "execution_count": 5,
      "metadata": {
        "trusted": true
      },
      "outputs": [
        {
          "name": "stdout",
          "output_type": "stream",
          "text": [
            "Табличное значение t-критерия для 95%-го доверительного интервала данной выборки:  2.262\n"
          ]
        }
      ],
      "source": [
        "def t_from_table(confidens, len_array):\n",
        "    alpha=(1-confidens)\n",
        "    return stats.t.ppf(1-alpha/2, len_array-1)\n",
        "print(f'Табличное значение t-критерия для 95%-го доверительного интервала данной выборки: {t_from_table(0.95, len(arr)): .3f}')"
      ]
    },
    {
      "cell_type": "code",
      "execution_count": 6,
      "metadata": {
        "trusted": true
      },
      "outputs": [
        {
          "name": "stdout",
          "output_type": "stream",
          "text": [
            "95%-й доверительный интервал для истинного значения IQ: (110.556, 125.644).\n"
          ]
        }
      ],
      "source": [
        "def confidens_int(arr, confidens):\n",
        "    return round(np.mean(arr)-t_from_table(confidens,len(arr))*np.std(arr, ddof=1)/len(arr)**0.5,3), \\\n",
        "           round(np.mean(arr)+t_from_table(confidens,len(arr))*np.std(arr, ddof=1)/len(arr)**0.5,3)\n",
        "\n",
        "print(f'95%-й доверительный интервал для истинного значения IQ: {confidens_int(arr, 0.95)}.')"
      ]
    },
    {
      "cell_type": "code",
      "execution_count": null,
      "metadata": {},
      "outputs": [],
      "source": []
    }
  ],
  "metadata": {
    "kernelspec": {
      "display_name": "base",
      "language": "python",
      "name": "python3"
    },
    "language_info": {
      "codemirror_mode": {
        "name": "ipython",
        "version": 3
      },
      "file_extension": ".py",
      "mimetype": "text/x-python",
      "name": "python",
      "nbconvert_exporter": "python",
      "pygments_lexer": "ipython3",
      "version": "3.9.13"
    },
    "vscode": {
      "interpreter": {
        "hash": "f08154012ddadd8e950e6e9e035c7a7b32c136e7647e9b7c77e02eb723a8bedb"
      }
    }
  },
  "nbformat": 4,
  "nbformat_minor": 4
}
