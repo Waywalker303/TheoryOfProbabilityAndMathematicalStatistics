{
  "metadata": {
    "language_info": {
      "codemirror_mode": {
        "name": "python",
        "version": 3
      },
      "file_extension": ".py",
      "mimetype": "text/x-python",
      "name": "python",
      "nbconvert_exporter": "python",
      "pygments_lexer": "ipython3",
      "version": "3.8"
    },
    "kernelspec": {
      "name": "python",
      "display_name": "Python (Pyodide)",
      "language": "python"
    }
  },
  "nbformat_minor": 4,
  "nbformat": 4,
  "cells": [
    {
      "cell_type": "code",
      "source": "# Провести дисперсионный анализ для определения того, есть ли различия среднего роста среди взрослых футболистов, хоккеистов и штангистов. Даны значения роста в трех группах случайно выбранных спортсменов: Футболисты: 173, 175, 180, 178, 177, 185, 183, 182. Хоккеисты: 177, 179, 180, 188, 177, 172, 171, 184, 180. Штангисты: 172, 173, 169, 177, 166, 180, 178, 177, 172, 166, 170.",
      "metadata": {
        "trusted": true
      },
      "execution_count": 60,
      "outputs": []
    },
    {
      "cell_type": "code",
      "source": "import numpy as np\nfrom scipy import stats",
      "metadata": {
        "trusted": true
      },
      "execution_count": 61,
      "outputs": []
    },
    {
      "cell_type": "code",
      "source": "fp = np.array([173, 175, 180, 178, 177, 185, 183, 182], dtype=np.float64)\nhp = np.array([177, 179, 180, 188, 177, 172, 171, 184, 180], dtype=np.float64)\nlf = np.array([172, 173, 169, 177, 166, 180, 178, 177, 172, 166, 170], dtype=np.float64)\n\nn1 = fp.shape[0]\nn2 = hp.shape[0]\nn3 = lf.shape[0]",
      "metadata": {
        "trusted": true
      },
      "execution_count": 62,
      "outputs": []
    },
    {
      "cell_type": "code",
      "source": "fp_mean = fp.mean()\nhp_mean = hp.mean()\nlf_mean = lf.mean()\n\nfp_mean, hp_mean, lf_mean",
      "metadata": {
        "trusted": true
      },
      "execution_count": 63,
      "outputs": [
        {
          "execution_count": 63,
          "output_type": "execute_result",
          "data": {
            "text/plain": "(179.125, 178.66666666666666, 172.72727272727272)"
          },
          "metadata": {}
        }
      ]
    },
    {
      "cell_type": "code",
      "source": "y = np.concatenate([fp, hp, lf])\nprint(y)",
      "metadata": {
        "trusted": true
      },
      "execution_count": 64,
      "outputs": [
        {
          "name": "stdout",
          "text": "[173. 175. 180. 178. 177. 185. 183. 182. 177. 179. 180. 188. 177. 172.\n 171. 184. 180. 172. 173. 169. 177. 166. 180. 178. 177. 172. 166. 170.]\n",
          "output_type": "stream"
        }
      ]
    },
    {
      "cell_type": "code",
      "source": "y_mean = y.mean()\ny_mean",
      "metadata": {
        "trusted": true
      },
      "execution_count": 65,
      "outputs": [
        {
          "execution_count": 65,
          "output_type": "execute_result",
          "data": {
            "text/plain": "176.46428571428572"
          },
          "metadata": {}
        }
      ]
    },
    {
      "cell_type": "code",
      "source": "S2_F = n1 * (fp_mean - y_mean) ** 2 + n2 * (hp_mean - y_mean) ** 2 + n3 * (lf_mean - y_mean) ** 2\nS2_res = ((fp - fp_mean) ** 2).sum() + ((hp - hp_mean) ** 2).sum() + ((lf - lf_mean) ** 2).sum()\nS2_F, S2_res",
      "metadata": {
        "trusted": true
      },
      "execution_count": 66,
      "outputs": [
        {
          "execution_count": 66,
          "output_type": "execute_result",
          "data": {
            "text/plain": "(253.9074675324678, 577.0568181818182)"
          },
          "metadata": {}
        }
      ]
    },
    {
      "cell_type": "code",
      "source": "S2_F + S2_res",
      "metadata": {
        "trusted": true
      },
      "execution_count": 67,
      "outputs": [
        {
          "execution_count": 67,
          "output_type": "execute_result",
          "data": {
            "text/plain": "830.964285714286"
          },
          "metadata": {}
        }
      ]
    },
    {
      "cell_type": "code",
      "source": "((y - y_mean) ** 2).sum()",
      "metadata": {
        "trusted": true
      },
      "execution_count": 68,
      "outputs": [
        {
          "execution_count": 68,
          "output_type": "execute_result",
          "data": {
            "text/plain": "830.9642857142854"
          },
          "metadata": {}
        }
      ]
    },
    {
      "cell_type": "code",
      "source": "k = 3\nn = n1 + n2 + n3\n\nk1 = k - 1\nk2 = n - k\n\nsigma2_F = S2_F / k1\nsigma2_res = S2_res / k2\n\nsigma2_F, sigma2_res",
      "metadata": {
        "trusted": true
      },
      "execution_count": 69,
      "outputs": [
        {
          "execution_count": 69,
          "output_type": "execute_result",
          "data": {
            "text/plain": "(126.9537337662339, 23.08227272727273)"
          },
          "metadata": {}
        }
      ]
    },
    {
      "cell_type": "code",
      "source": "T = sigma2_F / sigma2_res",
      "metadata": {
        "trusted": true
      },
      "execution_count": 73,
      "outputs": []
    },
    {
      "cell_type": "code",
      "source": "alpha = 0.05\n\nF_crit = stats.f.ppf(1 - alpha, k1, k2)\nF_crit",
      "metadata": {
        "trusted": true
      },
      "execution_count": 71,
      "outputs": [
        {
          "execution_count": 71,
          "output_type": "execute_result",
          "data": {
            "text/plain": "3.3851899614491687"
          },
          "metadata": {}
        }
      ]
    },
    {
      "cell_type": "code",
      "source": "# разниц в росте спортцменов являеться статистически значимым",
      "metadata": {
        "trusted": true
      },
      "execution_count": 72,
      "outputs": []
    }
  ]
}