{
  "cells": [
    {
      "cell_type": "code",
      "execution_count": 1,
      "metadata": {},
      "outputs": [],
      "source": [
        "# 3)Известно, что рост футболистов в сборной распределен нормально\n",
        "# с дисперсией генеральной совокупности, равной 25 кв.см. Объем выборки равен 27,\n",
        "# среднее выборочное составляет 174.2. Найдите доверительный интервал для математического\n",
        "# ожидания с надежностью 0.95."
      ]
    },
    {
      "cell_type": "code",
      "execution_count": 3,
      "metadata": {
        "trusted": true
      },
      "outputs": [
        {
          "name": "stdout",
          "output_type": "stream",
          "text": [
            "доверительный интервал для оценки математического ожидания с надежностью 0.95: [ 172.3140; 176.0860].\n"
          ]
        }
      ],
      "source": [
        "left=174.2-(1.96*25**0.5)/27**0.5\n",
        "right=174.2+(1.96*25**0.5)/27**0.5\n",
        "print(f'доверительный интервал для оценки математического ожидания с надежностью 0.95: [{left: .4f};{right: .4f}].')"
      ]
    }
  ],
  "metadata": {
    "kernelspec": {
      "display_name": "base",
      "language": "python",
      "name": "python3"
    },
    "language_info": {
      "codemirror_mode": {
        "name": "ipython",
        "version": 3
      },
      "file_extension": ".py",
      "mimetype": "text/x-python",
      "name": "python",
      "nbconvert_exporter": "python",
      "pygments_lexer": "ipython3",
      "version": "3.9.13"
    },
    "vscode": {
      "interpreter": {
        "hash": "f08154012ddadd8e950e6e9e035c7a7b32c136e7647e9b7c77e02eb723a8bedb"
      }
    }
  },
  "nbformat": 4,
  "nbformat_minor": 4
}
